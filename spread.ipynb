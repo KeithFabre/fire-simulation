{
 "cells": [
  {
   "cell_type": "code",
   "execution_count": 4,
   "source": [
    "import numpy as np\n",
    "import imageio\n",
    "\n",
    "# 0 = clear, 1 = fuel, 2 = fire\n",
    "\n",
    "prob = .6\n",
    "total_time = 300\n",
    "terrain_size = [100,100]"
   ],
   "outputs": [],
   "metadata": {}
  },
  {
   "cell_type": "code",
   "execution_count": 6,
   "source": [
    "states = np.zeros((total_time,*terrain_size))\n",
    "states[0] = np.random.choice([0,1],size=terrain_size,p=[1-prob,prob])\n",
    "# set middle cell on fire\n",
    "states[0,terrain_size[0]//2,terrain_size[1]//2] = 2"
   ],
   "outputs": [],
   "metadata": {}
  },
  {
   "cell_type": "code",
   "execution_count": null,
   "source": [
    "for t in range(1,total_time):\n",
    "    states[t] = states[t-1].copy()\n",
    "\n",
    "    for x in range(1,terrain_size[0]-1):\n",
    "        for y in range(1,terrain_size[1]-1):\n",
    "            if states[t-1,x,y] == 2: # it's on fire\n",
    "                states[t,x,y] = 0 # put it out and clear it\n",
    "\n",
    "                # if there's fuel surrounding it: set it on fire\n",
    "                if states[t-1,x+1,y] == 1:\n",
    "                    states[t,x+1,y] = 2\n",
    "                if states[t-1,x-1,y] == 1:\n",
    "                    states[t,x-1,y] = 2\n",
    "                if states[t-1,x,y+1] == 1:\n",
    "                    states[t,x,y+1] = 2\n",
    "                if states[t-1,x,y-1] == 1:\n",
    "                    states[t,x,y-1] = 2"
   ],
   "outputs": [],
   "metadata": {}
  },
  {
   "cell_type": "code",
   "execution_count": null,
   "source": [
    "colored = np.zeros((total_time,*terrain_size,3),dtype=np.uint8)\n",
    "\n",
    "# Color\n",
    "for t in range(states.shape[0]):\n",
    "    for x in range(states[t].shape[0]):\n",
    "        for y in range(states[t].shape[1]):\n",
    "            value = states[t,x,y].copy()\n",
    "\n",
    "            if value == 0:\n",
    "                colored[t,x,y] = [139,69,19] # clear\n",
    "            elif value == 1:\n",
    "                colored[t,x,y] = [0,255,0] # fuel\n",
    "            elif value == 2:\n",
    "                colored[t,x,y] = [255,0,0] # burning\n",
    "\n",
    "# Crop\n",
    "cropped = colored[:200, 1:terrain_size[0]-1,1:terrain_size[1]-1]\n",
    "\n",
    "imageio.mimsave('./video.gif', cropped)"
   ],
   "outputs": [],
   "metadata": {}
  }
 ],
 "metadata": {
  "orig_nbformat": 4,
  "language_info": {
   "name": "python",
   "version": "3.8.10",
   "mimetype": "text/x-python",
   "codemirror_mode": {
    "name": "ipython",
    "version": 3
   },
   "pygments_lexer": "ipython3",
   "nbconvert_exporter": "python",
   "file_extension": ".py"
  },
  "kernelspec": {
   "name": "python3",
   "display_name": "Python 3.8.10 64-bit"
  },
  "interpreter": {
   "hash": "916dbcbb3f70747c44a77c7bcd40155683ae19c65e1c03b4aa3499c5328201f1"
  }
 },
 "nbformat": 4,
 "nbformat_minor": 2
}