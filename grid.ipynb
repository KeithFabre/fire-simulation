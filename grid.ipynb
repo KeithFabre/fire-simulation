{
 "cells": [
  {
   "cell_type": "markdown",
   "source": [
    "    O intuito desse código se encontra na construção de um cenário inicial para que se estude a propagação do fogo no mesmo.\n",
    "    Para isso, conta-se com os elementos madeira (para florestas), vegetação (em verde), lagos e lagoas em azul, aceiros e \n",
    "    áreas queimadas em preto, além do vermelho para o fogo.\n",
    "\n",
    "    Após construí-lo os valores são salvos na matriz que representa a grid. Com isso se busca utilizá-los na propagação do\n",
    "    fogo, para análises personalizadas de diferentes cenários.\n",
    "\n",
    "    Inicia-se com grid em verde, ilustrando a vegetação.\n",
    "    Ao clicar nas células é preenchida uma cor --> é possível clicar e arrastar para preencher múltiplas células\n",
    "    Se a tecla 'G' for pressionada, a cor é verde\n",
    "    Se a tecla 'R' for pressionada, a cor é vermelha\n",
    "    Se a tecla 'B' for pressionada, a cor é azul\n",
    "    Se a tecla 'W' for pressionada, a cor é marrom\n",
    "    Se a tecla 'X' for pressionada, o valor da célula é zerado e ela passa a ser branca"
   ],
   "metadata": {}
  },
  {
   "cell_type": "code",
   "execution_count": 16,
   "source": [
    "import pygame\n",
    "from Button import button\n",
    "\n",
    "# cores\n",
    "black = (0, 0, 0)\n",
    "silver =(255, 255, 255) \n",
    "white = (255, 255, 255)\n",
    "green = (0, 255, 0)\n",
    "red = (255, 0, 0)\n",
    "blue = (0, 0, 255)\n",
    "brown = (150, 75, 0)\n",
    "\n",
    "width = 15 # largura célula\n",
    "height = 15 # altura célula\n",
    "\n",
    "margin = 3 # margem entre cada célula\n",
    "n = 30  # número de linhas e colunas"
   ],
   "outputs": [],
   "metadata": {}
  },
  {
   "cell_type": "code",
   "execution_count": 17,
   "source": [
    "grid = [] # grid inicia com 1s => para área arborizada\n",
    "for row in range(n):\n",
    "    grid.append([])\n",
    "    for col in range(n):\n",
    "        grid[row].append(1)"
   ],
   "outputs": [],
   "metadata": {}
  },
  {
   "cell_type": "code",
   "execution_count": 18,
   "source": [
    "pygame.init()\n",
    "\n",
    "window_size = [545,690]\n",
    "screen = pygame.display.set_mode(window_size, pygame.RESIZABLE)\n",
    "\n",
    "pygame.display.set_caption(\"Grid 2D\")\n",
    "\n",
    "# loads button image\n",
    "exit_img = pygame.image.load('./Button/save.png').convert_alpha()\n",
    "\n",
    "# creates button instance\n",
    "exit_button = button.Button(\n",
    "    (window_size[0]/3 + window_size[0]/20), window_size[1]-window_size[0]/4, \n",
    "    exit_img, 0.25)\n",
    "\n",
    "\n",
    "done = False\n",
    "clickedButton = False\n",
    "new_color = green  # cell color\n",
    "clicked = 1  # cell value\n",
    "out = False # for clicks outside of grid\n",
    "\n",
    "clock = pygame.time.Clock()"
   ],
   "outputs": [],
   "metadata": {}
  },
  {
   "cell_type": "markdown",
   "source": [
    "Função que irá atribuir os devidos valores para as células quando detectar o click com o botão esquerdo do mouse sobre elas"
   ],
   "metadata": {}
  },
  {
   "cell_type": "code",
   "execution_count": 19,
   "source": [
    "\n",
    "def paintCell():\n",
    "    click = pygame.mouse.get_pressed()\n",
    "    pos = pygame.mouse.get_pos()\n",
    "\n",
    "    col = pos[0] // (width + margin)\n",
    "    row = pos[1] // (height + margin)\n",
    "\n",
    "    outsideGrid = (pos[0] > (width+margin)*n) or (pos[1] > (height+margin)*n)\n",
    "\n",
    "    if click[0] == True:\n",
    "        if outsideGrid == False:\n",
    "            grid[row][col] = clicked"
   ],
   "outputs": [],
   "metadata": {}
  },
  {
   "cell_type": "code",
   "execution_count": 15,
   "source": [
    "while not done:\n",
    "\n",
    "    screen.fill(silver)\n",
    "\n",
    "    for event in pygame.event.get():\n",
    "\n",
    "        if event.type == pygame.QUIT:\n",
    "            done = True\n",
    "\n",
    "\n",
    "        if event.type == pygame.KEYDOWN:\n",
    "\n",
    "            if event.key == pygame.K_g:\n",
    "                clicked = 1\n",
    "\n",
    "            if event.key == pygame.K_r:\n",
    "                clicked = 2\n",
    "\n",
    "            if event.key == pygame.K_b:\n",
    "                clicked = 3\n",
    "\n",
    "            if event.key == pygame.K_w:\n",
    "                clicked = 4\n",
    "\n",
    "            if event.key == pygame.K_z:\n",
    "                clicked = -1\n",
    "\n",
    "            if event.key == pygame.K_x:\n",
    "                clicked = 0\n",
    "\n",
    "    for row in range(n):  # desenha a grid\n",
    "        for col in range(n):\n",
    "\n",
    "            color = green  # preenche de branco\n",
    "\n",
    "            if grid[row][col] == -1:\n",
    "                color = black\n",
    "            if grid[row][col] == 1:\n",
    "                color = green\n",
    "            if grid[row][col] == 2:\n",
    "                color = red\n",
    "            if grid[row][col] == 3:\n",
    "                color = blue\n",
    "            if grid[row][col] == 4:\n",
    "                color = brown\n",
    "            if grid[row][col] == 0:\n",
    "                color = white\n",
    "\n",
    "            pygame.draw.rect(screen,\n",
    "                             color,\n",
    "                             [(margin+width)*col + margin,\n",
    "                              (margin+height)*row + margin,\n",
    "                              width,\n",
    "                              height])\n",
    "    #save button\n",
    "    if exit_button.draw(screen):\n",
    "        done = True\n",
    "\n",
    "    clock.tick(60)  # 60 frames/s\n",
    "\n",
    "    paintCell()\n",
    "    pygame.display.flip()  # updates screen\n",
    "\n",
    "\n",
    "pygame.quit()\n",
    "\n",
    "print(grid)\n"
   ],
   "outputs": [
    {
     "output_type": "stream",
     "name": "stdout",
     "text": [
      "[[1, 1, 1, 1, 1, 1, 1, 1, 1, 1, 1, 1, 1, 1, 1, 1, 1, 1, 1, 1, 1, 1, 1, 1, 1, 1, 1, 1, 1, 1], [1, 1, 1, 1, 1, 1, 1, 1, 1, 1, 1, 1, 1, 1, 1, 1, 1, 1, 1, 1, 1, 1, 1, 1, 1, 1, 1, 1, 1, 1], [1, 1, 1, 1, 1, 1, 1, 1, 1, 1, 1, 1, 1, 1, 1, 1, 1, 1, 1, 1, 1, 1, 1, 1, 1, 1, 1, 1, 1, 1], [1, 1, 1, 1, 1, 1, 1, 1, 1, 1, 1, 1, 1, 1, 1, 1, 1, 1, 1, 1, 1, 1, 1, 1, 1, 1, 1, 1, 1, 1], [1, 1, 1, 1, 1, 1, 1, 1, 1, 1, 1, 1, 1, 1, 1, 1, 1, 1, 1, 1, 1, 1, 1, 1, 1, 1, 1, 1, 1, 1], [1, 1, 1, 1, 1, 1, 1, 1, 1, 1, 1, 1, 1, 1, 1, 1, 1, 1, 1, 1, 1, 1, 1, 1, 1, 1, 1, 1, 1, 1], [1, 1, 1, 1, 1, 1, 1, 1, 1, 1, 1, 1, 1, 1, 1, 1, 1, 1, 1, 1, 1, 1, 1, 1, 1, 1, 1, 1, 1, 1], [1, 1, 1, 1, 1, 1, 1, 1, 1, 1, 1, 1, 1, 1, 1, 1, 1, 1, 1, 1, 1, 1, 1, 1, 1, 1, 1, 1, 1, 1], [1, 1, 1, 1, 1, 1, 1, 1, 1, 1, 1, 1, 1, 1, 1, 1, 1, 1, 1, 1, 1, 1, 1, 1, 1, 1, 1, 1, 1, 1], [1, 1, 1, 1, 1, 1, 1, 1, 1, 1, 1, 1, 1, 1, 1, 1, 1, 1, 1, 1, 1, 1, 1, 1, 1, 1, 1, 1, 1, 1], [1, 1, 1, 1, 1, 1, 1, 1, 1, 1, 1, 1, 1, 1, 1, 1, 1, 1, 1, 1, 1, 1, 1, 1, 1, 1, 1, 1, 1, 1], [1, 1, 1, 1, 1, 1, 1, 1, 1, 1, 1, 1, 1, 1, 1, 1, 1, 1, 1, 1, 1, 1, 1, 1, 1, 1, 1, 1, 1, 1], [1, 1, 1, 1, 1, 1, 1, 1, 1, 1, 1, 1, 1, 1, 1, 1, 1, 1, 1, 1, 1, 1, 1, 1, 1, 1, 1, 1, 1, 1], [1, 1, 1, 1, 1, 1, 1, 1, 1, 1, 1, 1, 1, 1, 1, 1, 1, 1, 1, 1, 1, 1, 1, 1, 1, 1, 1, 1, 1, 1], [1, 1, 1, 1, 1, 1, 1, 1, 1, 1, 1, 1, 1, 1, 1, 1, 1, 1, 1, 1, 1, 1, 1, 1, 1, 1, 1, 1, 1, 1], [1, 1, 1, 1, 1, 1, 1, 1, 1, 1, 1, 1, 1, 1, 1, 1, 1, 1, 1, 1, 1, 1, 1, 1, 1, 1, 1, 1, 1, 1], [1, 1, 1, 1, 1, 1, 1, 1, 1, 1, 1, 1, 1, 1, 1, 1, 1, 1, 1, 1, 1, 1, 1, 1, 1, 1, 1, 1, 1, 1], [1, 1, 1, 1, 1, 1, 1, 1, 1, 1, 1, 1, 1, 1, 1, 1, 1, 1, 1, 1, 1, 1, 1, 1, 1, 1, 1, 1, 1, 1], [1, 1, 1, 1, 1, 1, 1, 1, 1, 1, 1, 1, 1, 1, 1, 1, 1, 1, 1, 1, 1, 1, 1, 1, 1, 1, 1, 1, 1, 1], [1, 1, 1, 1, 1, 1, 1, 1, 1, 1, 1, 1, 1, 1, 1, 1, 1, 1, 1, 1, 1, 1, 1, 1, 1, 1, 1, 1, 1, 1], [1, 1, 1, 1, 1, 1, 1, 1, 1, 1, 1, 1, 1, 1, 1, 1, 1, 1, 1, 1, 1, 1, 1, 1, 1, 1, 1, 1, 1, 1], [1, 1, 1, 1, 1, 1, 1, 1, 1, 1, 1, 1, 1, 1, 1, 1, 1, 1, 1, 1, 1, 1, 1, 1, 1, 1, 1, 1, 1, 1], [1, 1, 1, 1, 1, 1, 1, 1, 1, 1, 1, 1, 1, 1, 1, 1, 1, 1, 1, 1, 1, 1, 1, 1, 1, 1, 1, 1, 1, 1], [1, 1, 1, 1, 1, 1, 1, 1, 1, 1, 1, 1, 1, 1, 1, 1, 1, 1, 1, 1, 1, 1, 1, 1, 1, 1, 1, 1, 1, 1], [1, 1, 1, 1, 1, 1, 1, 1, 1, 1, 1, 1, 1, 1, 1, 1, 1, 1, 1, 1, 1, 1, 1, 1, 1, 1, 1, 1, 1, 1], [1, 1, 1, 1, 1, 1, 1, 1, 1, 1, 1, 1, 1, 1, 1, 1, 1, 1, 1, 1, 1, 1, 1, 1, 1, 1, 1, 1, 1, 1], [1, 1, 1, 1, 1, 1, 1, 1, 1, 1, 1, 1, 1, 1, 1, 1, 1, 1, 1, 1, 1, 1, 1, 1, 1, 1, 1, 1, 1, 1], [1, 1, 1, 1, 1, 1, 1, 1, 1, 1, 1, 1, 1, 1, 1, 1, 1, 1, 1, 1, 1, 1, 1, 1, 1, 1, 1, 1, 1, 1], [1, 1, 1, 1, 1, 1, 1, 1, 1, 1, 1, 1, 1, 1, 1, 1, 1, 1, 1, 1, 1, 1, 1, 1, 1, 1, 1, 1, 1, 1], [1, 1, 1, 1, 1, 1, 1, 1, 1, 1, 1, 1, 1, 1, 1, 1, 1, 1, 1, 1, 1, 1, 1, 1, 1, 1, 1, 1, 1, 1]]\n"
     ]
    }
   ],
   "metadata": {}
  }
 ],
 "metadata": {
  "orig_nbformat": 4,
  "language_info": {
   "name": "python",
   "version": "3.8.10",
   "mimetype": "text/x-python",
   "codemirror_mode": {
    "name": "ipython",
    "version": 3
   },
   "pygments_lexer": "ipython3",
   "nbconvert_exporter": "python",
   "file_extension": ".py"
  },
  "kernelspec": {
   "name": "python3",
   "display_name": "Python 3.8.10 64-bit"
  },
  "interpreter": {
   "hash": "916dbcbb3f70747c44a77c7bcd40155683ae19c65e1c03b4aa3499c5328201f1"
  }
 },
 "nbformat": 4,
 "nbformat_minor": 2
}